{
 "cells": [
  {
   "cell_type": "markdown",
   "metadata": {},
   "source": [
    "### **NYC Traffic Prediction Data Processing**\n",
    "\n",
    "#### **1. Loading the Data**\n",
    "First, we load the dataset containing automated traffic volume counts for NYC into a Pandas DataFrame and inspect its structure."
   ]
  },
  {
   "cell_type": "code",
   "execution_count": 1,
   "metadata": {},
   "outputs": [
    {
     "name": "stdout",
     "output_type": "stream",
     "text": [
      "<class 'pandas.core.frame.DataFrame'>\n",
      "RangeIndex: 1712605 entries, 0 to 1712604\n",
      "Data columns (total 14 columns):\n",
      " #   Column     Dtype \n",
      "---  ------     ----- \n",
      " 0   RequestID  int64 \n",
      " 1   Boro       object\n",
      " 2   Yr         int64 \n",
      " 3   M          int64 \n",
      " 4   D          int64 \n",
      " 5   HH         int64 \n",
      " 6   MM         int64 \n",
      " 7   Vol        int64 \n",
      " 8   SegmentID  int64 \n",
      " 9   WktGeom    object\n",
      " 10  street     object\n",
      " 11  fromSt     object\n",
      " 12  toSt       object\n",
      " 13  Direction  object\n",
      "dtypes: int64(8), object(6)\n",
      "memory usage: 182.9+ MB\n"
     ]
    },
    {
     "data": {
      "text/html": [
       "<div>\n",
       "<style scoped>\n",
       "    .dataframe tbody tr th:only-of-type {\n",
       "        vertical-align: middle;\n",
       "    }\n",
       "\n",
       "    .dataframe tbody tr th {\n",
       "        vertical-align: top;\n",
       "    }\n",
       "\n",
       "    .dataframe thead th {\n",
       "        text-align: right;\n",
       "    }\n",
       "</style>\n",
       "<table border=\"1\" class=\"dataframe\">\n",
       "  <thead>\n",
       "    <tr style=\"text-align: right;\">\n",
       "      <th></th>\n",
       "      <th>RequestID</th>\n",
       "      <th>Boro</th>\n",
       "      <th>Yr</th>\n",
       "      <th>M</th>\n",
       "      <th>D</th>\n",
       "      <th>HH</th>\n",
       "      <th>MM</th>\n",
       "      <th>Vol</th>\n",
       "      <th>SegmentID</th>\n",
       "      <th>WktGeom</th>\n",
       "      <th>street</th>\n",
       "      <th>fromSt</th>\n",
       "      <th>toSt</th>\n",
       "      <th>Direction</th>\n",
       "    </tr>\n",
       "  </thead>\n",
       "  <tbody>\n",
       "    <tr>\n",
       "      <th>0</th>\n",
       "      <td>32970</td>\n",
       "      <td>Queens</td>\n",
       "      <td>2021</td>\n",
       "      <td>4</td>\n",
       "      <td>30</td>\n",
       "      <td>2</td>\n",
       "      <td>0</td>\n",
       "      <td>0</td>\n",
       "      <td>149701</td>\n",
       "      <td>POINT (997407.0998491726 208620.92612708386)</td>\n",
       "      <td>PULASKI BRIDGE</td>\n",
       "      <td>Newtown Creek Shoreline</td>\n",
       "      <td>Dead end</td>\n",
       "      <td>NB</td>\n",
       "    </tr>\n",
       "    <tr>\n",
       "      <th>1</th>\n",
       "      <td>32970</td>\n",
       "      <td>Queens</td>\n",
       "      <td>2021</td>\n",
       "      <td>4</td>\n",
       "      <td>30</td>\n",
       "      <td>2</td>\n",
       "      <td>15</td>\n",
       "      <td>1</td>\n",
       "      <td>149701</td>\n",
       "      <td>POINT (997407.0998491726 208620.92612708386)</td>\n",
       "      <td>PULASKI BRIDGE</td>\n",
       "      <td>Newtown Creek Shoreline</td>\n",
       "      <td>Dead end</td>\n",
       "      <td>NB</td>\n",
       "    </tr>\n",
       "    <tr>\n",
       "      <th>2</th>\n",
       "      <td>32970</td>\n",
       "      <td>Queens</td>\n",
       "      <td>2021</td>\n",
       "      <td>4</td>\n",
       "      <td>30</td>\n",
       "      <td>2</td>\n",
       "      <td>30</td>\n",
       "      <td>0</td>\n",
       "      <td>149701</td>\n",
       "      <td>POINT (997407.0998491726 208620.92612708386)</td>\n",
       "      <td>PULASKI BRIDGE</td>\n",
       "      <td>Newtown Creek Shoreline</td>\n",
       "      <td>Dead end</td>\n",
       "      <td>NB</td>\n",
       "    </tr>\n",
       "    <tr>\n",
       "      <th>3</th>\n",
       "      <td>32970</td>\n",
       "      <td>Queens</td>\n",
       "      <td>2021</td>\n",
       "      <td>4</td>\n",
       "      <td>30</td>\n",
       "      <td>2</td>\n",
       "      <td>45</td>\n",
       "      <td>0</td>\n",
       "      <td>149701</td>\n",
       "      <td>POINT (997407.0998491726 208620.92612708386)</td>\n",
       "      <td>PULASKI BRIDGE</td>\n",
       "      <td>Newtown Creek Shoreline</td>\n",
       "      <td>Dead end</td>\n",
       "      <td>NB</td>\n",
       "    </tr>\n",
       "    <tr>\n",
       "      <th>4</th>\n",
       "      <td>32970</td>\n",
       "      <td>Queens</td>\n",
       "      <td>2021</td>\n",
       "      <td>4</td>\n",
       "      <td>30</td>\n",
       "      <td>3</td>\n",
       "      <td>0</td>\n",
       "      <td>1</td>\n",
       "      <td>149701</td>\n",
       "      <td>POINT (997407.0998491726 208620.92612708386)</td>\n",
       "      <td>PULASKI BRIDGE</td>\n",
       "      <td>Newtown Creek Shoreline</td>\n",
       "      <td>Dead end</td>\n",
       "      <td>NB</td>\n",
       "    </tr>\n",
       "  </tbody>\n",
       "</table>\n",
       "</div>"
      ],
      "text/plain": [
       "   RequestID    Boro    Yr  M   D  HH  MM  Vol  SegmentID   \n",
       "0      32970  Queens  2021  4  30   2   0    0     149701  \\\n",
       "1      32970  Queens  2021  4  30   2  15    1     149701   \n",
       "2      32970  Queens  2021  4  30   2  30    0     149701   \n",
       "3      32970  Queens  2021  4  30   2  45    0     149701   \n",
       "4      32970  Queens  2021  4  30   3   0    1     149701   \n",
       "\n",
       "                                        WktGeom          street   \n",
       "0  POINT (997407.0998491726 208620.92612708386)  PULASKI BRIDGE  \\\n",
       "1  POINT (997407.0998491726 208620.92612708386)  PULASKI BRIDGE   \n",
       "2  POINT (997407.0998491726 208620.92612708386)  PULASKI BRIDGE   \n",
       "3  POINT (997407.0998491726 208620.92612708386)  PULASKI BRIDGE   \n",
       "4  POINT (997407.0998491726 208620.92612708386)  PULASKI BRIDGE   \n",
       "\n",
       "                    fromSt      toSt Direction  \n",
       "0  Newtown Creek Shoreline  Dead end        NB  \n",
       "1  Newtown Creek Shoreline  Dead end        NB  \n",
       "2  Newtown Creek Shoreline  Dead end        NB  \n",
       "3  Newtown Creek Shoreline  Dead end        NB  \n",
       "4  Newtown Creek Shoreline  Dead end        NB  "
      ]
     },
     "execution_count": 1,
     "metadata": {},
     "output_type": "execute_result"
    }
   ],
   "source": [
    "import pandas as pd\n",
    "import matplotlib.pyplot as plt\n",
    "\n",
    "# Load dataset\n",
    "df = pd.read_csv('ny_data.csv')\n",
    "\n",
    "# Display dataset info and first few rows\n",
    "df.info()\n",
    "df.head()\n"
   ]
  },
  {
   "cell_type": "markdown",
   "metadata": {},
   "source": [
    "#### **2. Handling Negative Values**\n",
    "Traffic volume counts should not be negative. We check for negative values in the 'Vol' column and replace them with zeros."
   ]
  },
  {
   "cell_type": "code",
   "execution_count": 2,
   "metadata": {},
   "outputs": [
    {
     "data": {
      "text/plain": [
       "1"
      ]
     },
     "execution_count": 2,
     "metadata": {},
     "output_type": "execute_result"
    }
   ],
   "source": [
    "# Count negative values\n",
    "negative_count = (df['Vol'] < 0).sum()\n",
    "negative_count"
   ]
  },
  {
   "cell_type": "code",
   "execution_count": 3,
   "metadata": {},
   "outputs": [],
   "source": [
    "# Replace negative values with 0\n",
    "df.loc[df['Vol'] < 0, 'Vol'] = 0"
   ]
  },
  {
   "cell_type": "markdown",
   "metadata": {},
   "source": [
    "#### **3. Analyzing Missing Data**\n",
    "We calculate the number of missing values in each column and the percentage of missing data. We also display rows with missing values."
   ]
  },
  {
   "cell_type": "code",
   "execution_count": 4,
   "metadata": {},
   "outputs": [
    {
     "name": "stdout",
     "output_type": "stream",
     "text": [
      "           missing_count  missing_percentage\n",
      "toSt                1246                0.07\n",
      "RequestID              0                0.00\n",
      "Boro                   0                0.00\n",
      "Yr                     0                0.00\n",
      "M                      0                0.00\n",
      "D                      0                0.00\n",
      "HH                     0                0.00\n",
      "MM                     0                0.00\n",
      "Vol                    0                0.00\n",
      "SegmentID              0                0.00\n",
      "WktGeom                0                0.00\n",
      "street                 0                0.00\n",
      "fromSt                 0                0.00\n",
      "Direction              0                0.00\n"
     ]
    }
   ],
   "source": [
    "# Count missing values\n",
    "missing_counts = df.isnull().sum()\n",
    "\n",
    "# Create a summary of missing values\n",
    "missing_summary = df.isnull().sum().to_frame('missing_count')\n",
    "missing_summary['missing_percentage'] = (df.isnull().sum() / len(df) * 100).round(2)\n",
    "\n",
    "# Sort by most missing values\n",
    "missing_summary = missing_summary.sort_values('missing_count', ascending=False)\n",
    "\n",
    "print(missing_summary)\n"
   ]
  },
  {
   "cell_type": "markdown",
   "metadata": {},
   "source": [
    "#### **4. Handling Missing `toSt` Values**\n",
    "The `toSt` (destination street) column has missing values. We identify rows where the `fromSt` (origin street) column contains the phrase 'Between ... and ...' and infer the `toSt` values from the `fromSt` column."
   ]
  },
  {
   "cell_type": "code",
   "execution_count": 5,
   "metadata": {},
   "outputs": [
    {
     "name": "stdout",
     "output_type": "stream",
     "text": [
      "         RequestID      Boro    Yr  M   D  HH  MM  Vol  SegmentID   \n",
      "426467       10877  Brooklyn  2009  5   9  23  15  266     230717  \\\n",
      "426468       10877  Brooklyn  2009  5   9  23  30  230     230717   \n",
      "426469       10877  Brooklyn  2009  5   9  23  45  194     230717   \n",
      "426470       10877  Brooklyn  2009  5  10   0   0  196     230717   \n",
      "426471       10877  Brooklyn  2009  5  10   0  15  193     230717   \n",
      "...            ...       ...   ... ..  ..  ..  ..  ...        ...   \n",
      "1662446      10877  Brooklyn  2009  5  19  10  45  270     230717   \n",
      "1662447      10877  Brooklyn  2009  5  19  11   0  230     230717   \n",
      "1662448      10877  Brooklyn  2009  5  19  11  15  294     230717   \n",
      "1662449      10877  Brooklyn  2009  5  19  11  30  275     230717   \n",
      "1662450      10877  Brooklyn  2009  5  19  11  45  302     230717   \n",
      "\n",
      "                           WktGeom                  street   \n",
      "426467   POINT (993612.8 158332.9)  Ocean Pkwy SB Mainline  \\\n",
      "426468   POINT (993612.8 158332.9)  Ocean Pkwy SB Mainline   \n",
      "426469   POINT (993612.8 158332.9)  Ocean Pkwy SB Mainline   \n",
      "426470   POINT (993612.8 158332.9)  Ocean Pkwy SB Mainline   \n",
      "426471   POINT (993612.8 158332.9)  Ocean Pkwy SB Mainline   \n",
      "...                            ...                     ...   \n",
      "1662446  POINT (993612.8 158332.9)  Ocean Pkwy SB Mainline   \n",
      "1662447  POINT (993612.8 158332.9)  Ocean Pkwy SB Mainline   \n",
      "1662448  POINT (993612.8 158332.9)  Ocean Pkwy SB Mainline   \n",
      "1662449  POINT (993612.8 158332.9)  Ocean Pkwy SB Mainline   \n",
      "1662450  POINT (993612.8 158332.9)  Ocean Pkwy SB Mainline   \n",
      "\n",
      "                          fromSt toSt Direction  IsTargetRow  \n",
      "426467   Between Ave T and Ave S  NaN        SB         True  \n",
      "426468   Between Ave T and Ave S  NaN        SB         True  \n",
      "426469   Between Ave T and Ave S  NaN        SB         True  \n",
      "426470   Between Ave T and Ave S  NaN        SB         True  \n",
      "426471   Between Ave T and Ave S  NaN        SB         True  \n",
      "...                          ...  ...       ...          ...  \n",
      "1662446  Between Ave T and Ave S  NaN        SB         True  \n",
      "1662447  Between Ave T and Ave S  NaN        SB         True  \n",
      "1662448  Between Ave T and Ave S  NaN        SB         True  \n",
      "1662449  Between Ave T and Ave S  NaN        SB         True  \n",
      "1662450  Between Ave T and Ave S  NaN        SB         True  \n",
      "\n",
      "[1142 rows x 15 columns]\n",
      "         RequestID    Boro    Yr  M   D  HH  MM  Vol  SegmentID   \n",
      "0            32970  Queens  2021  4  30   2   0    0     149701  \\\n",
      "1            32970  Queens  2021  4  30   2  15    1     149701   \n",
      "2            32970  Queens  2021  4  30   2  30    0     149701   \n",
      "3            32970  Queens  2021  4  30   2  45    0     149701   \n",
      "4            32970  Queens  2021  4  30   3   0    1     149701   \n",
      "...            ...     ...   ... ..  ..  ..  ..  ...        ...   \n",
      "1712600      17447  Queens  2014  6  28  15   0    6      90610   \n",
      "1712601      17447  Queens  2014  6  28  15  15    7      90610   \n",
      "1712602      17447  Queens  2014  6  28  15  30    8      90610   \n",
      "1712603      17447  Queens  2014  6  28  15  45    8      90610   \n",
      "1712604      17447  Queens  2014  6  28  16   0    6      90610   \n",
      "\n",
      "                                              WktGeom          street   \n",
      "0        POINT (997407.0998491726 208620.92612708386)  PULASKI BRIDGE  \\\n",
      "1        POINT (997407.0998491726 208620.92612708386)  PULASKI BRIDGE   \n",
      "2        POINT (997407.0998491726 208620.92612708386)  PULASKI BRIDGE   \n",
      "3        POINT (997407.0998491726 208620.92612708386)  PULASKI BRIDGE   \n",
      "4        POINT (997407.0998491726 208620.92612708386)  PULASKI BRIDGE   \n",
      "...                                               ...             ...   \n",
      "1712600                    POINT (1037356.1 200863.7)    PARSONS BLVD   \n",
      "1712601                    POINT (1037356.1 200863.7)    PARSONS BLVD   \n",
      "1712602                    POINT (1037356.1 200863.7)    PARSONS BLVD   \n",
      "1712603                    POINT (1037356.1 200863.7)    PARSONS BLVD   \n",
      "1712604                    POINT (1037356.1 200863.7)    PARSONS BLVD   \n",
      "\n",
      "                          fromSt         toSt Direction  \n",
      "0        Newtown Creek Shoreline     Dead end        NB  \n",
      "1        Newtown Creek Shoreline     Dead end        NB  \n",
      "2        Newtown Creek Shoreline     Dead end        NB  \n",
      "3        Newtown Creek Shoreline     Dead end        NB  \n",
      "4        Newtown Creek Shoreline     Dead end        NB  \n",
      "...                          ...          ...       ...  \n",
      "1712600               VILLAGE RD  GOETHALS AV        WB  \n",
      "1712601               VILLAGE RD  GOETHALS AV        WB  \n",
      "1712602               VILLAGE RD  GOETHALS AV        WB  \n",
      "1712603               VILLAGE RD  GOETHALS AV        WB  \n",
      "1712604               VILLAGE RD  GOETHALS AV        WB  \n",
      "\n",
      "[1712605 rows x 14 columns]\n"
     ]
    }
   ],
   "source": [
    "# Find rows where 'fromSt' contains 'Between ... and ...'\n",
    "df['IsTargetRow'] = df['fromSt'].str.contains(r'^Between .+ and .+$', regex=True, na=False) & df['toSt'].isna()\n",
    "\n",
    "# Display the rows where the condition is True\n",
    "print(df[df['IsTargetRow']])\n",
    "\n",
    "# Extract 'toSt' from 'fromSt'\n",
    "matching_rows = df[df['IsTargetRow']].copy()\n",
    "matching_rows['toSt'] = matching_rows['fromSt'].str.extract(r'and (.+)$')[0]\n",
    "\n",
    "# Update the original DataFrame\n",
    "df.loc[df['IsTargetRow'], 'toSt'] = matching_rows['toSt']\n",
    "\n",
    "# Drop the helper column\n",
    "df.drop(columns=['IsTargetRow'], inplace=True)\n",
    "\n",
    "# Display the updated DataFrame\n",
    "print(df)"
   ]
  },
  {
   "cell_type": "markdown",
   "metadata": {},
   "source": [
    "#### **5. Further Cleaning of `fromSt` and `toSt`**\n",
    "We clean the `fromSt` column to extract only the origin street name and update the `toSt` column accordingly."
   ]
  },
  {
   "cell_type": "code",
   "execution_count": 6,
   "metadata": {},
   "outputs": [
    {
     "name": "stdout",
     "output_type": "stream",
     "text": [
      "         RequestID    Boro    Yr  M   D  HH  MM  Vol  SegmentID   \n",
      "0            32970  Queens  2021  4  30   2   0    0     149701  \\\n",
      "1            32970  Queens  2021  4  30   2  15    1     149701   \n",
      "2            32970  Queens  2021  4  30   2  30    0     149701   \n",
      "3            32970  Queens  2021  4  30   2  45    0     149701   \n",
      "4            32970  Queens  2021  4  30   3   0    1     149701   \n",
      "...            ...     ...   ... ..  ..  ..  ..  ...        ...   \n",
      "1712600      17447  Queens  2014  6  28  15   0    6      90610   \n",
      "1712601      17447  Queens  2014  6  28  15  15    7      90610   \n",
      "1712602      17447  Queens  2014  6  28  15  30    8      90610   \n",
      "1712603      17447  Queens  2014  6  28  15  45    8      90610   \n",
      "1712604      17447  Queens  2014  6  28  16   0    6      90610   \n",
      "\n",
      "                                              WktGeom          street   \n",
      "0        POINT (997407.0998491726 208620.92612708386)  PULASKI BRIDGE  \\\n",
      "1        POINT (997407.0998491726 208620.92612708386)  PULASKI BRIDGE   \n",
      "2        POINT (997407.0998491726 208620.92612708386)  PULASKI BRIDGE   \n",
      "3        POINT (997407.0998491726 208620.92612708386)  PULASKI BRIDGE   \n",
      "4        POINT (997407.0998491726 208620.92612708386)  PULASKI BRIDGE   \n",
      "...                                               ...             ...   \n",
      "1712600                    POINT (1037356.1 200863.7)    PARSONS BLVD   \n",
      "1712601                    POINT (1037356.1 200863.7)    PARSONS BLVD   \n",
      "1712602                    POINT (1037356.1 200863.7)    PARSONS BLVD   \n",
      "1712603                    POINT (1037356.1 200863.7)    PARSONS BLVD   \n",
      "1712604                    POINT (1037356.1 200863.7)    PARSONS BLVD   \n",
      "\n",
      "                          fromSt         toSt Direction  \n",
      "0        Newtown Creek Shoreline     Dead end        NB  \n",
      "1        Newtown Creek Shoreline     Dead end        NB  \n",
      "2        Newtown Creek Shoreline     Dead end        NB  \n",
      "3        Newtown Creek Shoreline     Dead end        NB  \n",
      "4        Newtown Creek Shoreline     Dead end        NB  \n",
      "...                          ...          ...       ...  \n",
      "1712600               VILLAGE RD  GOETHALS AV        WB  \n",
      "1712601               VILLAGE RD  GOETHALS AV        WB  \n",
      "1712602               VILLAGE RD  GOETHALS AV        WB  \n",
      "1712603               VILLAGE RD  GOETHALS AV        WB  \n",
      "1712604               VILLAGE RD  GOETHALS AV        WB  \n",
      "\n",
      "[1712605 rows x 14 columns]\n"
     ]
    }
   ],
   "source": [
    "# Clean 'fromSt' by extracting only the origin street\n",
    "df['fromSt'] = df['fromSt'].str.replace(r'^Between (.+) and .+$', r'\\1', regex=True)\n",
    "\n",
    "# Update 'toSt' values where necessary\n",
    "condition = df['fromSt'].str.contains(r' and ', na=False) & df['toSt'].isna()\n",
    "df.loc[condition, 'toSt'] = df.loc[condition, 'fromSt'].str.extract(r'and (.+)$')[0]\n",
    "df.loc[condition, 'fromSt'] = df.loc[condition, 'fromSt'].str.extract(r'^(.+) and')[0]\n",
    "\n",
    "# Display the cleaned DataFrame\n",
    "print(df)\n"
   ]
  },
  {
   "cell_type": "markdown",
   "metadata": {},
   "source": [
    "#### Checking for missing values again"
   ]
  },
  {
   "cell_type": "code",
   "execution_count": 7,
   "metadata": {},
   "outputs": [
    {
     "data": {
      "text/plain": [
       "RequestID    0\n",
       "Boro         0\n",
       "Yr           0\n",
       "M            0\n",
       "D            0\n",
       "HH           0\n",
       "MM           0\n",
       "Vol          0\n",
       "SegmentID    0\n",
       "WktGeom      0\n",
       "street       0\n",
       "fromSt       0\n",
       "toSt         0\n",
       "Direction    0\n",
       "dtype: int64"
      ]
     },
     "execution_count": 7,
     "metadata": {},
     "output_type": "execute_result"
    }
   ],
   "source": [
    "missing_counts = df.isnull().sum()\n",
    "missing_counts"
   ]
  },
  {
   "cell_type": "markdown",
   "metadata": {},
   "source": [
    "### **Summary**\n",
    "In this script, we:\n",
    "1. Loaded the traffic volume dataset.\n",
    "2. Handled negative values in the traffic volume column.\n",
    "3. Analyzed and cleaned missing values, particularly for the `toSt` column.\n",
    "4. Applied regex to clean and infer missing `toSt` values from `fromSt`.\n",
    "5. Further cleaned the `fromSt` column and finalized the dataset."
   ]
  },
  {
   "cell_type": "code",
   "execution_count": null,
   "metadata": {},
   "outputs": [],
   "source": [
    "    "
   ]
  }
 ],
 "metadata": {
  "kernelspec": {
   "display_name": "Python 3",
   "language": "python",
   "name": "python3"
  },
  "language_info": {
   "codemirror_mode": {
    "name": "ipython",
    "version": 3
   },
   "file_extension": ".py",
   "mimetype": "text/x-python",
   "name": "python",
   "nbconvert_exporter": "python",
   "pygments_lexer": "ipython3",
   "version": "3.11.3"
  }
 },
 "nbformat": 4,
 "nbformat_minor": 2
}
